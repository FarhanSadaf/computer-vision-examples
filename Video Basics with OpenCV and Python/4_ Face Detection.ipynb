{
 "cells": [
  {
   "cell_type": "markdown",
   "metadata": {},
   "source": [
    "### Using Haar Cascade\n",
    "Face detection using Haar cascades is a machine learning based approach where model is pre-trained. OpenCV already contains many pre-trained classifiers for face, eyes, smiles, etc.\n",
    "\n",
    "Download pre-traied weights <a href=\"https://github.com/opencv/opencv/tree/master/data/haarcascades\"> haarcascades</a>.\n",
    "\n",
    "<a href=\"https://www.bogotobogo.com/python/OpenCV_Python/python_opencv3_Image_Object_Detection_Face_Detection_Haar_Cascade_Classifiers.php\">For details</a>"
   ]
  },
  {
   "cell_type": "code",
   "execution_count": 1,
   "metadata": {},
   "outputs": [],
   "source": [
    "import cv2\n",
    "\n",
    "# Load the cascade\n",
    "face_cascade = cv2.CascadeClassifier('../Haarcascades/haarcascade_frontalface_default.xml')\n",
    "\n",
    "# Capture video from web-cam\n",
    "cap = cv2.VideoCapture(0)\n",
    "\n",
    "while True:\n",
    "    ret, frame = cap.read()\n",
    "    \n",
    "    # Mirror the image\n",
    "    frame = cv2.flip(frame, 1)\n",
    "    \n",
    "    '''\n",
    "    Many methods in cv2 expects grayscale image. \n",
    "    If you don't convert to grayscale, cv2 will do it for you.\n",
    "    If you use multiple methods that expects grayscale image, \n",
    "        then converting to grayscale before passing might be save some time. \n",
    "        As all of these methods won't need to convert to grayscale.\n",
    "    '''\n",
    "    # Convert frame to frayscale\n",
    "    gray = cv2.cvtColor(frame, cv2.COLOR_BGR2GRAY)\n",
    "    \n",
    "    # Detect faces from grayscale frame\n",
    "    faces = face_cascade.detectMultiScale(gray, 1.3, 5)\n",
    "    \n",
    "    for (x, y, w, h) in faces:\n",
    "        cv2.rectangle(img=frame, pt1=(x, y), pt2=(x+w, y+h), color=(0, 255, 0), thickness=3)\n",
    "    \n",
    "    cv2.imshow('frame', frame)\n",
    "    \n",
    "    if cv2.waitKey(5) & 0xFF == 27:\n",
    "        break\n",
    "\n",
    "cap.release()\n",
    "cv2.destroyAllWindows()"
   ]
  },
  {
   "cell_type": "code",
   "execution_count": null,
   "metadata": {},
   "outputs": [],
   "source": []
  }
 ],
 "metadata": {
  "kernelspec": {
   "display_name": "Python 3",
   "language": "python",
   "name": "python3"
  },
  "language_info": {
   "codemirror_mode": {
    "name": "ipython",
    "version": 3
   },
   "file_extension": ".py",
   "mimetype": "text/x-python",
   "name": "python",
   "nbconvert_exporter": "python",
   "pygments_lexer": "ipython3",
   "version": "3.8.1"
  }
 },
 "nbformat": 4,
 "nbformat_minor": 4
}
