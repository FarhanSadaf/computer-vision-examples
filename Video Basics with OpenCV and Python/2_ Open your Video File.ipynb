{
 "cells": [
  {
   "cell_type": "code",
   "execution_count": 20,
   "metadata": {},
   "outputs": [
    {
     "name": "stdout",
     "output_type": "stream",
     "text": [
      "Time : 28.334771156311035\n",
      "Video duration : 28.95\n"
     ]
    }
   ],
   "source": [
    "# Import Libraries\n",
    "import cv2\n",
    "import time\n",
    "\n",
    "# Open video from a video file\n",
    "cap = cv2.VideoCapture('capture-1.mkv')\n",
    "\n",
    "if not cap.isOpened():\n",
    "    print('Error! Check your file path.')\n",
    "\n",
    "tic = time.time()\n",
    "\n",
    "# Read until video is completed.\n",
    "while cap.isOpened():\n",
    "    ret, frame = cap.read()\n",
    "    if ret:\n",
    "        cv2.imshow('frame', frame)\n",
    "    \n",
    "        # The video had 20 fps. So we need a delay of 1/20 if we want to see it same speed as before.\n",
    "        if cv2.waitKey(35) & 0xFF == 27:\n",
    "            break\n",
    "    else:\n",
    "        break\n",
    "\n",
    "toc = time.time()\n",
    "\n",
    "print('Time :', abs(tic-toc))\n",
    "fps = cap.get(cv2.CAP_PROP_FPS)\n",
    "frame_count = int(cap.get(cv2.CAP_PROP_FRAME_COUNT))\n",
    "print('Video duration :', frame_count / fps)\n",
    "\n",
    "cap.release()\n",
    "cv2.destroyAllWindows()"
   ]
  },
  {
   "cell_type": "code",
   "execution_count": null,
   "metadata": {},
   "outputs": [],
   "source": []
  }
 ],
 "metadata": {
  "kernelspec": {
   "display_name": "Python 3",
   "language": "python",
   "name": "python3"
  },
  "language_info": {
   "codemirror_mode": {
    "name": "ipython",
    "version": 3
   },
   "file_extension": ".py",
   "mimetype": "text/x-python",
   "name": "python",
   "nbconvert_exporter": "python",
   "pygments_lexer": "ipython3",
   "version": "3.8.1"
  }
 },
 "nbformat": 4,
 "nbformat_minor": 4
}
