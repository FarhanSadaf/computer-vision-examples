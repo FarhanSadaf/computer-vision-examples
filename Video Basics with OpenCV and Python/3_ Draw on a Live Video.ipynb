{
 "cells": [
  {
   "cell_type": "markdown",
   "metadata": {},
   "source": [
    "### Draw a Static Rectangle"
   ]
  },
  {
   "cell_type": "code",
   "execution_count": 8,
   "metadata": {},
   "outputs": [],
   "source": [
    "import cv2\n",
    "\n",
    "cap = cv2.VideoCapture(0)\n",
    "\n",
    "# Get width & height of window\n",
    "width = int(cap.get(cv2.CAP_PROP_FRAME_WIDTH))\n",
    "height = int(cap.get(cv2.CAP_PROP_FRAME_HEIGHT))\n",
    "\n",
    "# Set ractangle parameters. Say, rectangle is 1/4 of screen\n",
    "x = width // 2\n",
    "y = height // 2\n",
    "w = width // 4\n",
    "h = height // 4\n",
    "\n",
    "while True:\n",
    "    ret, frame = cap.read()\n",
    "    \n",
    "    cv2.rectangle(img=frame, pt1=(x, y), pt2=(x+w, y+h), color=(0, 255, 0), thickness=3)\n",
    "    \n",
    "    cv2.imshow('frame', frame)\n",
    "    \n",
    "    if cv2.waitKey(3) & 0xFF == 27:\n",
    "        break\n",
    "        \n",
    "cap.release()\n",
    "cv2.destroyAllWindows()"
   ]
  },
  {
   "cell_type": "markdown",
   "metadata": {},
   "source": [
    "### Interactive Drawing 1\n",
    "##### Drawing a rectangle on 2 clicked points"
   ]
  },
  {
   "cell_type": "code",
   "execution_count": 8,
   "metadata": {},
   "outputs": [],
   "source": [
    "import cv2\n",
    "\n",
    "# Function for mouse callback\n",
    "def draw_rectangle(event, x, y, flags, param):\n",
    "    global pt1, pt2, top_left_clicked, bottom_right_clicked\n",
    "    \n",
    "    if event == cv2.EVENT_LBUTTONDOWN:    \n",
    "        # Reset all flags \n",
    "        if top_left_clicked and bottom_right_clicked:\n",
    "            pt1 = (0, 0)\n",
    "            pt2 = (0, 0)\n",
    "            top_left_clicked = False\n",
    "            bottom_right_clicked = False\n",
    "        \n",
    "        elif not top_left_clicked:\n",
    "            pt1 = (x, y)\n",
    "            top_left_clicked = True\n",
    "            \n",
    "        elif not bottom_right_clicked:\n",
    "            pt2 = (x, y)\n",
    "            bottom_right_clicked = True\n",
    "\n",
    "            \n",
    "# Set global varriables\n",
    "pt1 = (0, 0)\n",
    "pt2 = (0, 0)\n",
    "top_left_clicked = False\n",
    "bottom_right_clicked = False\n",
    "            \n",
    "# Capture video from webcam\n",
    "cap = cv2.VideoCapture(0)\n",
    "\n",
    "# Named window\n",
    "cv2.namedWindow('interactive drawing 1')\n",
    "\n",
    "# Set mouse callback\n",
    "cv2.setMouseCallback('interactive drawing 1', draw_rectangle)\n",
    "\n",
    "while True:\n",
    "    ret, frame = cap.read()\n",
    "    \n",
    "    if top_left_clicked:\n",
    "        cv2.circle(img=frame, center=pt1, radius=5, color=(255, 0, 255), thickness=-1)\n",
    "    \n",
    "    if top_left_clicked and bottom_right_clicked:\n",
    "        cv2.rectangle(img=frame, pt1=pt1, pt2=pt2, color=(0, 255, 0), thickness=3)\n",
    "    \n",
    "    cv2.imshow('interactive drawing 1', frame)\n",
    "    \n",
    "    if cv2.waitKey(3) & 0xFF == 27:\n",
    "        break\n",
    "        \n",
    "cap.release()\n",
    "cv2.destroyAllWindows()"
   ]
  },
  {
   "cell_type": "markdown",
   "metadata": {},
   "source": [
    "### Interactive Drawing 2\n",
    "##### Draw a circle where mouse is clicked"
   ]
  },
  {
   "cell_type": "code",
   "execution_count": null,
   "metadata": {},
   "outputs": [],
   "source": [
    "import cv2\n",
    "\n",
    "# Callback function\n",
    "def draw_circle(event, x, y, flags, param):\n",
    "    global center, show\n",
    "    if event == cv2.EVENT_LBUTTONDOWN:\n",
    "        center = (x, y)\n",
    "        show = False\n",
    "    \n",
    "    elif event == cv2.EVENT_LBUTTONUP:\n",
    "        show = True\n",
    "\n",
    "\n",
    "# Global varriables\n",
    "center = (0, 0)\n",
    "show = False\n",
    "\n",
    "# Capture from camera\n",
    "cap = cv2.VideoCapture(0)\n",
    "\n",
    "cv2.namedWindow('interactive drawing 2')\n",
    "\n",
    "cv2.setMouseCallback('interactive drawing 2', draw_circle)\n",
    "\n",
    "while True:\n",
    "    ret, frame = cap.read()\n",
    "    \n",
    "    if show:\n",
    "        cv2.circle(img=frame, center=center, radius=75, color=(0, 255, 0), thickness=3)\n",
    "    \n",
    "    cv2.imshow('interactive drawing 2', frame)\n",
    "    \n",
    "    if cv2.waitKey(3) & 0xFF == 27:\n",
    "        break\n",
    "        \n",
    "cap.release()\n",
    "cv2.destroyAllWindows()"
   ]
  },
  {
   "cell_type": "code",
   "execution_count": null,
   "metadata": {},
   "outputs": [],
   "source": []
  }
 ],
 "metadata": {
  "kernelspec": {
   "display_name": "Python 3",
   "language": "python",
   "name": "python3"
  },
  "language_info": {
   "codemirror_mode": {
    "name": "ipython",
    "version": 3
   },
   "file_extension": ".py",
   "mimetype": "text/x-python",
   "name": "python",
   "nbconvert_exporter": "python",
   "pygments_lexer": "ipython3",
   "version": "3.8.1"
  }
 },
 "nbformat": 4,
 "nbformat_minor": 4
}
